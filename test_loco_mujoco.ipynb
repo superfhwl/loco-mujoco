{
 "cells": [
  {
   "cell_type": "code",
   "execution_count": 9,
   "metadata": {},
   "outputs": [],
   "source": [
    "import numpy as np\n",
    "from loco_mujoco import LocoEnv\n",
    "\n",
    "np.random.seed(0)\n",
    "mdp = LocoEnv.make(\"Talos.walk.perfect\")\n",
    "mdp.play_trajectory_from_velocity(n_episodes=1, n_steps_per_episode=500)\n",
    "\n",
    "mdp = LocoEnv.make(\"Atlas.carry.real\")\n",
    "mdp.play_trajectory_from_velocity(n_episodes=1, n_steps_per_episode=500)\n",
    "\n",
    "mdp = LocoEnv.make(\"UnitreeH1.run.perfect\")\n",
    "mdp.play_trajectory_from_velocity(n_episodes=1, n_steps_per_episode=500)\n",
    "\n",
    "mdp = LocoEnv.make(\"UnitreeA1.hard.perfect\")\n",
    "mdp.play_trajectory_from_velocity(n_episodes=1, n_steps_per_episode=500)\n",
    "\n",
    "mdp = LocoEnv.make(\"HumanoidMuscle.walk.perfect\")\n",
    "mdp.play_trajectory_from_velocity(n_episodes=1, n_steps_per_episode=500)"
   ]
  }
 ],
 "metadata": {
  "kernelspec": {
   "display_name": "base",
   "language": "python",
   "name": "python3"
  },
  "language_info": {
   "codemirror_mode": {
    "name": "ipython",
    "version": 3
   },
   "file_extension": ".py",
   "mimetype": "text/x-python",
   "name": "python",
   "nbconvert_exporter": "python",
   "pygments_lexer": "ipython3",
   "version": "3.11.7"
  }
 },
 "nbformat": 4,
 "nbformat_minor": 2
}
